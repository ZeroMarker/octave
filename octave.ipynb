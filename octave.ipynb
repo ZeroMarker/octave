{
 "cells": [
  {
   "cell_type": "code",
   "execution_count": 2,
   "id": "2437a7f6",
   "metadata": {},
   "outputs": [
    {
     "name": "stdout",
     "output_type": "stream",
     "text": [
      "Hello, World!"
     ]
    }
   ],
   "source": [
    "printf('Hello, World!')"
   ]
  },
  {
   "cell_type": "code",
   "execution_count": 3,
   "id": "c558cc8a",
   "metadata": {},
   "outputs": [
    {
     "name": "stdout",
     "output_type": "stream",
     "text": [
      "ans = 7\n"
     ]
    }
   ],
   "source": [
    "2 + 5"
   ]
  },
  {
   "cell_type": "code",
   "execution_count": 4,
   "id": "988aa552",
   "metadata": {},
   "outputs": [
    {
     "name": "stdout",
     "output_type": "stream",
     "text": [
      "ans = 63\n"
     ]
    }
   ],
   "source": [
    "7 * 9"
   ]
  },
  {
   "cell_type": "code",
   "execution_count": 5,
   "id": "10b0f35d",
   "metadata": {},
   "outputs": [
    {
     "name": "stdout",
     "output_type": "stream",
     "text": [
      "a = 3.1400\n"
     ]
    }
   ],
   "source": [
    "a = 3.14"
   ]
  },
  {
   "cell_type": "code",
   "execution_count": 6,
   "id": "8d47737a",
   "metadata": {},
   "outputs": [
    {
     "name": "stdout",
     "output_type": "stream",
     "text": [
      "Variables visible from the current scope:\n",
      "\n",
      "a    ans\n",
      "\n"
     ]
    }
   ],
   "source": [
    "who"
   ]
  },
  {
   "cell_type": "code",
   "execution_count": 7,
   "id": "e20d15ac",
   "metadata": {},
   "outputs": [
    {
     "name": "stdout",
     "output_type": "stream",
     "text": [
      "Variables visible from the current scope:\n",
      "\n",
      "variables in scope: top scope\n",
      "\n",
      "  Attr   Name        Size                     Bytes  Class\n",
      "  ====   ====        ====                     =====  ===== \n",
      "         a           1x1                          8  double\n",
      "         ans         1x1                          8  double\n",
      "\n",
      "Total is 2 elements using 16 bytes\n",
      "\n"
     ]
    }
   ],
   "source": [
    "whos"
   ]
  },
  {
   "cell_type": "code",
   "execution_count": 9,
   "id": "f9068fbe",
   "metadata": {},
   "outputs": [
    {
     "name": "stdout",
     "output_type": "stream",
     "text": [
      "a =\n",
      "\n",
      "   1   2   3   4   5\n",
      "\n"
     ]
    }
   ],
   "source": [
    "a = [1, 2, 3, 4, 5]"
   ]
  },
  {
   "cell_type": "code",
   "execution_count": 10,
   "id": "e2be8310",
   "metadata": {},
   "outputs": [
    {
     "name": "stdout",
     "output_type": "stream",
     "text": [
      "ans =\n",
      "\n",
      "   1   5\n",
      "\n"
     ]
    }
   ],
   "source": [
    "size(a)"
   ]
  },
  {
   "cell_type": "code",
   "execution_count": 11,
   "id": "6580fc47",
   "metadata": {},
   "outputs": [
    {
     "name": "stdout",
     "output_type": "stream",
     "text": [
      "b =\n",
      "\n",
      "   1\n",
      "   2\n",
      "   3\n",
      "   4\n",
      "   5\n",
      "\n",
      "ans =\n",
      "\n",
      "   5   1\n",
      "\n"
     ]
    }
   ],
   "source": [
    "b = [1; 2; 3; 4; 5]\n",
    "size(b)"
   ]
  },
  {
   "cell_type": "code",
   "execution_count": 12,
   "id": "3eca8512",
   "metadata": {},
   "outputs": [
    {
     "name": "stdout",
     "output_type": "stream",
     "text": [
      "ans = 1\n"
     ]
    }
   ],
   "source": [
    "a(1)"
   ]
  },
  {
   "cell_type": "code",
   "execution_count": 13,
   "id": "0b0a0156",
   "metadata": {},
   "outputs": [
    {
     "name": "stdout",
     "output_type": "stream",
     "text": [
      "ans =\n",
      "\n",
      "   1   1   1\n",
      "   1   1   1\n",
      "   1   1   1\n",
      "\n"
     ]
    }
   ],
   "source": [
    "ones(3, 3)"
   ]
  },
  {
   "cell_type": "code",
   "execution_count": null,
   "id": "189c7260",
   "metadata": {},
   "outputs": [],
   "source": [
    "zeros(5, 5)"
   ]
  },
  {
   "cell_type": "code",
   "execution_count": 5,
   "id": "25ceaccd",
   "metadata": {},
   "outputs": [
    {
     "name": "stdout",
     "output_type": "stream",
     "text": [
      "ans =\n",
      "\n",
      "   3.5227e-01   1.5708e-01   9.6104e-01   4.0963e-01\n",
      "   8.4087e-01   1.1117e-01   5.5626e-03   2.3998e-01\n",
      "   5.6306e-02   9.9298e-01   4.8409e-01   8.2713e-01\n",
      "   4.7599e-01   2.3502e-01   1.7929e-01   1.6556e-01\n",
      "\n"
     ]
    }
   ],
   "source": [
    "rand(4, 4)"
   ]
  },
  {
   "cell_type": "code",
   "execution_count": 16,
   "id": "67f55ead",
   "metadata": {},
   "outputs": [
    {
     "name": "stdout",
     "output_type": "stream",
     "text": [
      "ans =\n",
      "\n",
      "       10      100     1000    10000   100000\n",
      "\n"
     ]
    }
   ],
   "source": [
    "logspace(1, 5, 5)"
   ]
  },
  {
   "cell_type": "code",
   "execution_count": 4,
   "id": "93816448",
   "metadata": {},
   "outputs": [
    {
     "name": "stdout",
     "output_type": "stream",
     "text": [
      "ans =\n",
      "\n",
      "   1.0000e+01   2.1544e+02   4.6416e+03   1.0000e+05\n",
      "\n"
     ]
    }
   ],
   "source": [
    "logspace(1, 5, 4)"
   ]
  },
  {
   "cell_type": "markdown",
   "id": "426a007b",
   "metadata": {},
   "source": [
    "Linear Programming"
   ]
  },
  {
   "cell_type": "code",
   "execution_count": 12,
   "id": "a97bb05e",
   "metadata": {},
   "outputs": [],
   "source": [
    "%{\n",
    "min f = -4a+b+7c\n",
    "c = [-4, 1, 7]'\n",
    "\n",
    "%}\n",
    "c = [2; 3; -5]';\n",
    "A = [1, 1, 1; \n",
    "    -2, 5, -1;\n",
    "    1, 3, 1];\n",
    "b = [7;-10;12]';\n",
    "lb = [0, 0, 0];\n",
    "%lower\n",
    "ub = [];\n",
    "%upper\n",
    "ctype=\"SLU\";\n",
    "%{\n",
    "F free\n",
    "U <=\n",
    "S =\n",
    "L >=\n",
    "D -3 <= 2a+4b+c <= 3\n",
    "%}\n",
    "vtype=\"CCC\";\n",
    "%{\n",
    "C constant\n",
    "I integer\n",
    "%}\n",
    "sense=1;\n",
    "%{\n",
    "sense=1 min f\n",
    "sense=-1 max f\n",
    "%}\n",
    "param.itlim = 10000;\n",
    "\n",
    "[xmin, fmin, status, extra]=glpk(c, A, b, lb, ub, ctype, vtype, sense, param);\n",
    "\n"
   ]
  },
  {
   "cell_type": "code",
   "execution_count": null,
   "id": "7b2f61b2",
   "metadata": {},
   "outputs": [],
   "source": []
  }
 ],
 "metadata": {
  "kernelspec": {
   "display_name": "Octave",
   "language": "octave",
   "name": "octave"
  },
  "language_info": {
   "file_extension": ".m",
   "help_links": [
    {
     "text": "GNU Octave",
     "url": "https://www.gnu.org/software/octave/support.html"
    },
    {
     "text": "Octave Kernel",
     "url": "https://github.com/Calysto/octave_kernel"
    },
    {
     "text": "MetaKernel Magics",
     "url": "https://metakernel.readthedocs.io/en/latest/source/README.html"
    }
   ],
   "mimetype": "text/x-octave",
   "name": "octave",
   "version": "8.1.0"
  }
 },
 "nbformat": 4,
 "nbformat_minor": 5
}
